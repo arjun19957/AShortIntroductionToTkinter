{
 "cells": [
  {
   "cell_type": "markdown",
   "metadata": {},
   "source": [
    "# Introduction"
   ]
  },
  {
   "cell_type": "markdown",
   "metadata": {},
   "source": [
    "<font size=\"4\">*  Tkinter is a open source python library that is used for creating a graphical user interface (GUI)  </font>\n",
    "\n",
    "<font size=\"4\">* It is installed along with all standard installations of Python  </font>  \n",
    "\n",
    "<font size=\"4\">* This notebook is a walkthrough of a few basic commands in Tkinter and at the end we will create a simple app                    using whatever we have learnt  </font>  "
   ]
  },
  {
   "cell_type": "markdown",
   "metadata": {},
   "source": [
    "# First steps - \"Hello World\""
   ]
  },
  {
   "cell_type": "markdown",
   "metadata": {},
   "source": [
    "### Import Tkinter package"
   ]
  },
  {
   "cell_type": "code",
   "execution_count": 1,
   "metadata": {},
   "outputs": [],
   "source": [
    "import tkinter as tk"
   ]
  },
  {
   "cell_type": "markdown",
   "metadata": {},
   "source": [
    "### Create the root widget. This is the mother widget where all other widgets live."
   ]
  },
  {
   "cell_type": "code",
   "execution_count": 2,
   "metadata": {},
   "outputs": [
    {
     "data": {
      "text/plain": [
       "''"
      ]
     },
     "execution_count": 2,
     "metadata": {},
     "output_type": "execute_result"
    }
   ],
   "source": [
    "root = tk.Tk()\n",
    "root.title(\"Hello\")"
   ]
  },
  {
   "cell_type": "markdown",
   "metadata": {},
   "source": [
    "### As a first example, let's create a label widget which says hello world and assign it onto the root widget. "
   ]
  },
  {
   "cell_type": "code",
   "execution_count": 3,
   "metadata": {},
   "outputs": [],
   "source": [
    "label = tk.Label(root, text = \"Hello World\")"
   ]
  },
  {
   "cell_type": "markdown",
   "metadata": {},
   "source": [
    "### Define where you want to place the widget. Here we go with default placement and hence do not specify any value."
   ]
  },
  {
   "cell_type": "code",
   "execution_count": 4,
   "metadata": {},
   "outputs": [],
   "source": [
    "label.pack()"
   ]
  },
  {
   "cell_type": "markdown",
   "metadata": {},
   "source": [
    "### Run the mainloop"
   ]
  },
  {
   "cell_type": "code",
   "execution_count": 5,
   "metadata": {},
   "outputs": [],
   "source": [
    "root.mainloop()"
   ]
  },
  {
   "cell_type": "markdown",
   "metadata": {},
   "source": [
    "# Using \"place\" to define where to place the widgets"
   ]
  },
  {
   "cell_type": "markdown",
   "metadata": {},
   "source": [
    "### Initialise everything as before."
   ]
  },
  {
   "cell_type": "code",
   "execution_count": 6,
   "metadata": {},
   "outputs": [],
   "source": [
    "root1 = tk.Tk()\n",
    "label1 = tk.Label(root1, text = \"This is line number 1\")\n",
    "label2 = tk.Label(root1, text = \"This is line number 2\")"
   ]
  },
  {
   "cell_type": "markdown",
   "metadata": {},
   "source": [
    "### The place method allows us to position the labels based on coordinate positions."
   ]
  },
  {
   "cell_type": "code",
   "execution_count": 7,
   "metadata": {},
   "outputs": [],
   "source": [
    "label1.place(x = 0, y = 1)\n",
    "label2.place(x = 0, y = 30)"
   ]
  },
  {
   "cell_type": "code",
   "execution_count": 8,
   "metadata": {},
   "outputs": [],
   "source": [
    "root1.mainloop()"
   ]
  },
  {
   "cell_type": "markdown",
   "metadata": {},
   "source": [
    "# The Button widget"
   ]
  },
  {
   "cell_type": "markdown",
   "metadata": {},
   "source": [
    "## Creating a button widget"
   ]
  },
  {
   "cell_type": "code",
   "execution_count": 9,
   "metadata": {},
   "outputs": [],
   "source": [
    "root2 = tk.Tk()"
   ]
  },
  {
   "cell_type": "code",
   "execution_count": 10,
   "metadata": {},
   "outputs": [],
   "source": [
    "myButton = tk.Button(root2, text = \"Click Me!\")\n",
    "myButton.pack()"
   ]
  },
  {
   "cell_type": "code",
   "execution_count": 11,
   "metadata": {},
   "outputs": [],
   "source": [
    "root2.mainloop()"
   ]
  },
  {
   "cell_type": "markdown",
   "metadata": {},
   "source": [
    "### Define a few parameters"
   ]
  },
  {
   "cell_type": "code",
   "execution_count": 12,
   "metadata": {},
   "outputs": [],
   "source": [
    "### some parameters to play with \n",
    "padx = 50\n",
    "pady = 50\n",
    "state = \"normal\"   # can be \"normal\", \"active\", or \"disabled\""
   ]
  },
  {
   "cell_type": "code",
   "execution_count": 13,
   "metadata": {},
   "outputs": [],
   "source": [
    "root3 = tk.Tk()\n",
    "myButton = tk.Button(root3, text = \"Click Me!\", padx = padx, pady = pady, state = state)\n",
    "myButton.pack()\n",
    "root3.mainloop()"
   ]
  },
  {
   "cell_type": "markdown",
   "metadata": {},
   "source": [
    "## Associating an action with a button"
   ]
  },
  {
   "cell_type": "markdown",
   "metadata": {},
   "source": [
    "### Define the function that needs to get executed when the button is clicked"
   ]
  },
  {
   "cell_type": "code",
   "execution_count": 14,
   "metadata": {},
   "outputs": [],
   "source": [
    "def myclick():\n",
    "    myLabel = tk.Label(root4,text = \"Hurray !!\")\n",
    "    myLabel.pack()"
   ]
  },
  {
   "cell_type": "code",
   "execution_count": 15,
   "metadata": {},
   "outputs": [],
   "source": [
    "root4 = tk.Tk()\n",
    "myButton = tk.Button(root4, text = \"Click Me!\",command = myclick)\n",
    "myButton.pack()\n",
    "root4.mainloop()"
   ]
  },
  {
   "cell_type": "markdown",
   "metadata": {},
   "source": [
    "# Input box"
   ]
  },
  {
   "cell_type": "code",
   "execution_count": 16,
   "metadata": {},
   "outputs": [],
   "source": [
    "root5 = tk.Tk()"
   ]
  },
  {
   "cell_type": "code",
   "execution_count": 17,
   "metadata": {},
   "outputs": [],
   "source": [
    "data = tk.Entry(root5)\n",
    "data.pack()"
   ]
  },
  {
   "cell_type": "code",
   "execution_count": 18,
   "metadata": {},
   "outputs": [],
   "source": [
    "root5.mainloop()"
   ]
  },
  {
   "cell_type": "markdown",
   "metadata": {},
   "source": [
    "### Define a few parameters"
   ]
  },
  {
   "cell_type": "code",
   "execution_count": 88,
   "metadata": {},
   "outputs": [],
   "source": [
    "root6 = tk.Tk()"
   ]
  },
  {
   "cell_type": "code",
   "execution_count": 89,
   "metadata": {},
   "outputs": [],
   "source": [
    "### some parameters to play with \n",
    "width = 10\n",
    "bg = \"blue\"\n",
    "fg = \"red\"\n",
    "borderwidth = 5\n",
    "pady = 10\n",
    "state = \"normal\"   # can be \"normal\", \"active\", or \"disabled\""
   ]
  },
  {
   "cell_type": "code",
   "execution_count": 90,
   "metadata": {},
   "outputs": [],
   "source": [
    "data = tk.Entry(root6, bg = bg, fg = fg, borderwidth = borderwidth)\n",
    "data.pack()"
   ]
  },
  {
   "cell_type": "code",
   "execution_count": 91,
   "metadata": {},
   "outputs": [],
   "source": [
    "root6.mainloop()"
   ]
  },
  {
   "cell_type": "markdown",
   "metadata": {},
   "source": [
    "# Putting it all together - A simple addition app"
   ]
  },
  {
   "cell_type": "code",
   "execution_count": 46,
   "metadata": {},
   "outputs": [],
   "source": [
    "import tkinter.font as tkFont"
   ]
  },
  {
   "cell_type": "code",
   "execution_count": 47,
   "metadata": {},
   "outputs": [],
   "source": [
    "base = tk.Tk()\n",
    "base.title(\"Addition app\")\n",
    "base.geometry(\"360x100\")\n",
    "fontStyle = tkFont.Font(family=\"Lucida Grande\", size=20)"
   ]
  },
  {
   "cell_type": "code",
   "execution_count": 48,
   "metadata": {},
   "outputs": [],
   "source": [
    "entry1 = tk.Entry(base, font = fontStyle, justify='center')\n",
    "entry1.place(x = 20, y = 20, width = 60 ,height = 60 )"
   ]
  },
  {
   "cell_type": "code",
   "execution_count": 49,
   "metadata": {},
   "outputs": [],
   "source": [
    "plus_symbol = tk.Label(base, text = \"+\", font = fontStyle)\n",
    "plus_symbol.place(x = 80, y = 20, width = 60 ,height = 60 )"
   ]
  },
  {
   "cell_type": "code",
   "execution_count": 50,
   "metadata": {},
   "outputs": [],
   "source": [
    "entry2 = tk.Entry(base, font = fontStyle, justify='center')\n",
    "entry2.place(x = 140, y = 20, width = 60 ,height = 60 )"
   ]
  },
  {
   "cell_type": "code",
   "execution_count": 51,
   "metadata": {},
   "outputs": [],
   "source": [
    "result = tk.Label(base , text = \"\",  font = fontStyle)"
   ]
  },
  {
   "cell_type": "code",
   "execution_count": 52,
   "metadata": {},
   "outputs": [],
   "source": [
    "def showresult():\n",
    "    a = float(entry1.get())\n",
    "    b = float(entry2.get())\n",
    "    c = a + b\n",
    "    result.config(text = c)\n",
    "    result.place(x = 280, y = 20, width = 60 ,height = 60 )"
   ]
  },
  {
   "cell_type": "code",
   "execution_count": 53,
   "metadata": {},
   "outputs": [],
   "source": [
    "button = tk.Button(base, text  = \" = \" ,command = showresult , borderwidth = 1, font = fontStyle)\n",
    "button.place(x = 220, y = 20, width = 60 ,height = 60 )"
   ]
  },
  {
   "cell_type": "code",
   "execution_count": 54,
   "metadata": {},
   "outputs": [],
   "source": [
    "base.mainloop()"
   ]
  },
  {
   "cell_type": "markdown",
   "metadata": {},
   "source": [
    "# A few additional resources to learn from "
   ]
  },
  {
   "cell_type": "markdown",
   "metadata": {},
   "source": [
    "* <font size=\"4\"> [Tkinter Course - Create Graphic User Interfaces in Python Tutorial by John Elder](https://www.youtube.com/watch?v=YXPyB4XeYLA)</font>\n",
    "\n",
    "* <font size=\"4\"> [Python GUI Programming With Tkinter on RealPython by David Amos](https://realpython.com/python-gui-tkinter/)</font>\n"
   ]
  },
  {
   "cell_type": "code",
   "execution_count": null,
   "metadata": {},
   "outputs": [],
   "source": []
  }
 ],
 "metadata": {
  "kernelspec": {
   "display_name": "Python 3",
   "language": "python",
   "name": "python3"
  },
  "language_info": {
   "codemirror_mode": {
    "name": "ipython",
    "version": 3
   },
   "file_extension": ".py",
   "mimetype": "text/x-python",
   "name": "python",
   "nbconvert_exporter": "python",
   "pygments_lexer": "ipython3",
   "version": "3.8.5"
  }
 },
 "nbformat": 4,
 "nbformat_minor": 4
}
